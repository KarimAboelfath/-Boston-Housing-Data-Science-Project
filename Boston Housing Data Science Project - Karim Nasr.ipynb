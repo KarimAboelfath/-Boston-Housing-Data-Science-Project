{
 "cells": [
  {
   "cell_type": "markdown",
   "id": "28683708",
   "metadata": {},
   "source": [
    "# Boston Housing Data Science Project\n",
    "Project Scenario: You are a Data Scientist with a housing agency in Boston MA, you have been given access to a previous dataset on housing prices derived from the U.S. Census Service to present insights to higher management. Based on your experience in Statistics, what information can you provide them to help with making an informed decision? Upper management will like to get some insight into the following."
   ]
  },
  {
   "cell_type": "markdown",
   "id": "8d1ef1ad",
   "metadata": {},
   "source": [
    "## Task 1: Become familiar with the dataset\n",
    "The following describes the dataset variables:\n",
    "\n",
    "·      CRIM - per capita crime rate by town\n",
    "\n",
    "·      ZN - proportion of residential land zoned for lots over 25,000 sq.ft.\n",
    "\n",
    "·      INDUS - proportion of non-retail business acres per town.\n",
    "\n",
    "·      CHAS - Charles River dummy variable (1 if tract bounds river; 0 otherwise)\n",
    "\n",
    "·      NOX - nitric oxides concentration (parts per 10 million)\n",
    "\n",
    "·      RM - average number of rooms per dwelling\n",
    "\n",
    "·      AGE - proportion of owner-occupied units built prior to 1940\n",
    "\n",
    "·      DIS - weighted distances to five Boston employment centres\n",
    "\n",
    "·      RAD - index of accessibility to radial highways\n",
    "\n",
    "·      TAX - full-value property-tax rate per $10,000\n",
    "\n",
    "·      PTRATIO - pupil-teacher ratio by town\n",
    "\n",
    "·      LSTAT - % lower status of the population\n",
    "\n",
    "·      MEDV - Median value of owner-occupied homes in $1000's"
   ]
  },
  {
   "cell_type": "code",
   "execution_count": null,
   "id": "f3f446f9",
   "metadata": {},
   "outputs": [],
   "source": [
    "import numpy as np\n",
    "import pandas as pd\n",
    "import seaborn as sns\n",
    "import matplotlib.pyplot as plt\n",
    "import scipy.stats\n",
    "import statsmodels.api as sm"
   ]
  },
  {
   "cell_type": "markdown",
   "id": "60500870",
   "metadata": {},
   "source": [
    "## Task 3: Load in the Dataset in your Jupyter Notebook"
   ]
  },
  {
   "cell_type": "code",
   "execution_count": null,
   "id": "7e6728d5",
   "metadata": {},
   "outputs": [],
   "source": [
    "# Run this command if you have the dataset saved locally on your machine\n",
    "boston_df=pd.read_csv('boston_housing.csv')\n",
    "\n",
    "# Run this command instead to get the dataset from the web\n",
    "# boston_url = 'https://cf-courses-data.s3.us.cloud-object-storage.appdomain.cloud/IBMDeveloperSkillsNetwork-ST0151EN-SkillsNetwork/labs/boston_housing.csv'\n",
    "# boston_df=pd.read_csv(boston_url)"
   ]
  },
  {
   "cell_type": "code",
   "execution_count": null,
   "id": "3931bd16",
   "metadata": {},
   "outputs": [],
   "source": [
    "boston_df.head()"
   ]
  },
  {
   "cell_type": "markdown",
   "id": "5f200939",
   "metadata": {},
   "source": [
    "## Task 4: Generate Descriptive Statistics and Visualizations"
   ]
  },
  {
   "cell_type": "code",
   "execution_count": null,
   "id": "d678d214",
   "metadata": {},
   "outputs": [],
   "source": [
    "# A box plot for the \"Median value of owner-occupied homes\"\n",
    "sns.boxplot(y='MEDV', data=boston_df)\n",
    "plt.title('Median value of owner-occupied homes')\n",
    "plt.show()"
   ]
  },
  {
   "cell_type": "code",
   "execution_count": null,
   "id": "e167074b",
   "metadata": {},
   "outputs": [],
   "source": [
    "# A  bar plot for the Charles river variable\n",
    "counts = boston_df['CHAS'].value_counts()\n",
    "sns.barplot(x=counts.index, y=counts.values)\n",
    "plt.title('Charles river variable')\n",
    "plt.xlabel('CHAS')\n",
    "plt.ylabel('Frequency')\n",
    "plt.show()"
   ]
  },
  {
   "cell_type": "code",
   "execution_count": null,
   "id": "4c62e472",
   "metadata": {},
   "outputs": [],
   "source": [
    "# Discretizing the age variable into three groups of 35 years and younger,\n",
    "# between 35 and 70 years and 70 years and older\n",
    "boston_df.loc[boston_df['AGE'] <= 35, 'AGE_DISC'] = '35 years and younger'\n",
    "boston_df.loc[(boston_df['AGE'] > 35) & (boston_df['AGE'] < 70), 'AGE_DISC'] = 'between 35 and 70 years'\n",
    "boston_df.loc[boston_df['AGE'] >= 70, 'AGE_DISC'] = '70 years and older'"
   ]
  },
  {
   "cell_type": "code",
   "execution_count": null,
   "id": "ee05daad",
   "metadata": {},
   "outputs": [],
   "source": [
    "# A boxplot for the MEDV variable vs the AGE variable\n",
    "sns.boxplot(x='AGE_DISC', y='MEDV', data=boston_df)\n",
    "plt.title('MEDV vs AGE')\n",
    "plt.xlabel('AGE')\n",
    "plt.ylabel('MEDV')\n",
    "plt.show()"
   ]
  },
  {
   "cell_type": "code",
   "execution_count": null,
   "id": "9d769a9b",
   "metadata": {},
   "outputs": [],
   "source": [
    "# A scatter plot to show the relationship between\n",
    "# Nitric oxide concentrations and the proportion of non-retail business acres per town\n",
    "sns.scatterplot(x='NOX', y='INDUS', data=boston_df)\n",
    "plt.title('Relationship between Nitric oxide concentrations and the proportion of non-retail business acres per town')\n",
    "plt.xlabel('NOX')\n",
    "plt.ylabel('INDUS')\n",
    "plt.show()\n",
    "# We can say they have an upward linear relationship"
   ]
  },
  {
   "cell_type": "code",
   "execution_count": null,
   "id": "c4e09667",
   "metadata": {
    "scrolled": true
   },
   "outputs": [],
   "source": [
    "# A histogram for the pupil to teacher ratio variable\n",
    "sns.histplot(data=boston_df, x='PTRATIO')\n",
    "plt.title('Pupil to teacher ratio')\n",
    "plt.xlabel('PTRATIO')\n",
    "plt.ylabel('Frequency')\n",
    "plt.show()"
   ]
  },
  {
   "cell_type": "markdown",
   "id": "f334c9e5",
   "metadata": {},
   "source": [
    "## Task 5: Use the appropriate tests to answer the questions provided."
   ]
  },
  {
   "cell_type": "markdown",
   "id": "4c487b1f",
   "metadata": {},
   "source": [
    "#### • Is there a significant difference in median value of houses bounded by the Charles river or not? (T-test for independent samples)"
   ]
  },
  {
   "cell_type": "markdown",
   "id": "2440b77d",
   "metadata": {},
   "source": [
    "We will be using the t-test for independent samples. For the independent t-test, the following assumptions must be met.\n",
    "\n",
    "*   One independent, categorical variable with two levels or group\n",
    "*   One dependent continuous variable\n",
    "*   Independence of the observations. Each subject should belong to only one group. There is no relationship between the observations in each group.\n",
    "*   The dependent variable must follow a normal distribution\n",
    "*   Assumption of homogeneity of variance\n"
   ]
  },
  {
   "cell_type": "markdown",
   "id": "8672efb7",
   "metadata": {},
   "source": [
    "Use α = 0.05"
   ]
  },
  {
   "cell_type": "markdown",
   "id": "2572a38a",
   "metadata": {},
   "source": [
    "State the hypothesis\n",
    "\n",
    "*   $H\\_0: µ\\_1 = µ\\_2$ (\"there is no difference in  median value of houses bounded by the Charles river or not\")\n",
    "*   $H\\_1: µ\\_1 ≠ µ\\_2$ (\"there is a difference in  median value of houses bounded by the Charles river or not\")\n"
   ]
  },
  {
   "cell_type": "markdown",
   "id": "eafcd923",
   "metadata": {},
   "source": [
    "We can plot the dependent variable with a historgram"
   ]
  },
  {
   "cell_type": "code",
   "execution_count": null,
   "id": "06c5825e",
   "metadata": {},
   "outputs": [],
   "source": [
    "ax = sns.distplot(boston_df['MEDV'],\n",
    "                  bins=20,\n",
    "                  kde=True,\n",
    "                  color='red',\n",
    "                  hist_kws={\"linewidth\": 15,'alpha':1})\n",
    "ax.set(xlabel='Normal Distribution of MEDV', ylabel='Frequency')\n",
    "## we can assume it is normal"
   ]
  },
  {
   "cell_type": "markdown",
   "id": "a53002e2",
   "metadata": {},
   "source": [
    "We can use the Levene's Test in Python to check test significance\n"
   ]
  },
  {
   "cell_type": "code",
   "execution_count": null,
   "id": "7727cc53",
   "metadata": {},
   "outputs": [],
   "source": [
    "scipy.stats.levene(boston_df[boston_df['CHAS'] == 0.0]['MEDV'],\n",
    "                   boston_df[boston_df['CHAS'] == 1.0]['MEDV'], center='mean')"
   ]
  },
  {
   "cell_type": "markdown",
   "id": "81b16fbf",
   "metadata": {},
   "source": [
    "* since the p-value is less than 0.05 we can't assume the equality of variance.\n",
    "* Variances are not equal.\n",
    "* Use the <code>ttest_ind</code> from the <code>scipy_stats</code> library"
   ]
  },
  {
   "cell_type": "code",
   "execution_count": null,
   "id": "65f8f1b0",
   "metadata": {},
   "outputs": [],
   "source": [
    "scipy.stats.ttest_ind(boston_df[boston_df['CHAS'] == 0.0]['MEDV'],\n",
    "                   boston_df[boston_df['CHAS'] == 1.0]['MEDV'], equal_var = False)"
   ]
  },
  {
   "cell_type": "markdown",
   "id": "cba73d60",
   "metadata": {},
   "source": [
    "**Conclusion:** Since the p-value is less than alpha value 0.05, we reject the null hypothesis as there is enough proof that there is a statistical difference in median value of houses bounded by the Charles river or not"
   ]
  },
  {
   "cell_type": "markdown",
   "id": "0f26f135",
   "metadata": {},
   "source": [
    "#### • Is there a difference in Median values of houses (MEDV) for each proportion of owner occupied units built prior to 1940 (AGE)? (ANOVA)"
   ]
  },
  {
   "cell_type": "markdown",
   "id": "4048e879",
   "metadata": {},
   "source": [
    "State the hypothesis\n",
    "\n",
    "*   $H\\_0: µ\\_1 a= µ\\_2 = µ\\_3$ (the three population means are equal)\n",
    "*   $H\\_1:$ At least one of the means differ\n"
   ]
  },
  {
   "cell_type": "markdown",
   "id": "5c25d750",
   "metadata": {},
   "source": [
    "Test for equality of variance"
   ]
  },
  {
   "cell_type": "code",
   "execution_count": null,
   "id": "8da57a1d",
   "metadata": {},
   "outputs": [],
   "source": [
    "scipy.stats.levene(boston_df[boston_df['AGE_DISC'] == '35 years and younger']['MEDV'],\n",
    "                   boston_df[boston_df['AGE_DISC'] == 'between 35 and 70 years']['MEDV'], \n",
    "                   boston_df[boston_df['AGE_DISC'] == '70 years and older']['MEDV'], \n",
    "                   center='mean')"
   ]
  },
  {
   "cell_type": "markdown",
   "id": "400641b1",
   "metadata": {},
   "source": [
    "since the p-value is larger than 0.05, the variance are equal"
   ]
  },
  {
   "cell_type": "markdown",
   "id": "7a14ece6",
   "metadata": {},
   "source": [
    "First, separate the three samples (one for each age category) into a variable each."
   ]
  },
  {
   "cell_type": "code",
   "execution_count": null,
   "id": "b298b95b",
   "metadata": {},
   "outputs": [],
   "source": [
    "thiryfive_younger = boston_df[boston_df['AGE_DISC'] == '35 years and younger']['MEDV']\n",
    "thiryfive_seventy = boston_df[boston_df['AGE_DISC'] == 'between 35 and 70 years']['MEDV']\n",
    "seventy_older = boston_df[boston_df['AGE_DISC'] == '70 years and older']['MEDV']"
   ]
  },
  {
   "cell_type": "markdown",
   "id": "687191b8",
   "metadata": {},
   "source": [
    "Now, run a one-way ANOVA.\n"
   ]
  },
  {
   "cell_type": "code",
   "execution_count": null,
   "id": "b5205d08",
   "metadata": {},
   "outputs": [],
   "source": [
    "f_statistic, p_value = scipy.stats.f_oneway(thiryfive_younger, thiryfive_seventy, seventy_older)\n",
    "print(\"F_Statistic: {0}, P-Value: {1}\".format(f_statistic,p_value))"
   ]
  },
  {
   "cell_type": "markdown",
   "id": "a6652279",
   "metadata": {},
   "source": [
    "**Conclusion:** Since the p-value is less than 0.05, we will reject the null hypothesis as there is significant evidence that at least one of the means differ.\n"
   ]
  },
  {
   "cell_type": "markdown",
   "id": "f98dbe73",
   "metadata": {},
   "source": [
    "#### • Can we conclude that there is no relationship between Nitric oxide concentrations and proportion of non-retail business acres per town? (Pearson Correlation)"
   ]
  },
  {
   "cell_type": "markdown",
   "id": "d559c47c",
   "metadata": {},
   "source": [
    "State the hypothesis:\n",
    "\n",
    "*   $H\\_0:$ Nitric oxide concentrations is not correlated with proportion of non-retail business acres per town\n",
    "*   $H\\_1:$ Nitric oxide concentrations is correlated with proportion of non-retail business acres per town"
   ]
  },
  {
   "cell_type": "code",
   "execution_count": null,
   "id": "e673c3de",
   "metadata": {},
   "outputs": [],
   "source": [
    "scipy.stats.pearsonr(boston_df['NOX'], boston_df['INDUS'])"
   ]
  },
  {
   "cell_type": "markdown",
   "id": "e75860f4",
   "metadata": {},
   "source": [
    "**Conclusion:** Since the p-value  (Sig. (2-tailed)  < 0.05, we reject the Null hypothesis and conclude that there  exists a relationship between Nitric oxide concentrations and proportion of non-retail business acres per town.\n"
   ]
  },
  {
   "cell_type": "markdown",
   "id": "bd00a817",
   "metadata": {},
   "source": [
    "#### • What is the impact of an additional weighted distance  to the five Boston employment centres on the median value of owner occupied homes? (Regression analysis)"
   ]
  },
  {
   "cell_type": "markdown",
   "id": "9c4c4b72",
   "metadata": {},
   "source": [
    "*   $H\\_0: β1$ = 0 (additional weighted distance to the five Boston employment centres has no effect on the median value of owner occupied homes)\n",
    "*   $H\\_1: β1$ is not equal to 0 (additional weighted distance to the five Boston employment centres has an effect on the median value of owner occupied homes)\n"
   ]
  },
  {
   "cell_type": "code",
   "execution_count": null,
   "id": "eaa2738b",
   "metadata": {},
   "outputs": [],
   "source": [
    "## X is the input variables (or independent variables)\n",
    "X = boston_df['DIS']\n",
    "## y is the target/dependent variable\n",
    "y = boston_df['MEDV']\n",
    "## add an intercept (beta_0) to our model\n",
    "X = sm.add_constant(X) \n",
    "\n",
    "model = sm.OLS(y, X).fit()\n",
    "predictions = model.predict(X)\n",
    "\n",
    "# Print out the statistics\n",
    "model.summary()"
   ]
  },
  {
   "cell_type": "markdown",
   "id": "52c3c0ab",
   "metadata": {},
   "source": [
    "**Conclusion:** Like the t-test, the p-value is less than the alpha (α) level = 0.05, so we reject the null hypothesis as there is evidence that additional weighted distance to the five Boston employment centres has an effect on the median value of owner occupied homes. The coefficient 1.0916 means that additional weighted distance to the five Boston employment centres has a positive weight of 1.0916 in affecting the median value of owner occupied homes. The constant 18.3901 means that the affect has an estimated intercept value of 18.3901."
   ]
  },
  {
   "cell_type": "markdown",
   "id": "8914b7d6",
   "metadata": {},
   "source": [
    "## Project Completed by:\n",
    "[Karim Nasr](https://www.linkedin.com/in/karim-nasr-abu-al-fath/)\n",
    "\n",
    "## Portions of this project were inspired by the work of\n",
    "[Pratiksha Verma](https://www.linkedin.com/in/pratiksha-verma-6487561b1/?utm_medium=Exinfluencer&utm_source=Exinfluencer&utm_content=000026UJ&utm_term=10006555&utm_id=NA-SkillsNetwork-Channel-SkillsNetworkCoursesIBMDeveloperSkillsNetworkST0151ENSkillsNetwork956-2022-01-01)"
   ]
  }
 ],
 "metadata": {
  "kernelspec": {
   "display_name": "Python 3 (ipykernel)",
   "language": "python",
   "name": "python3"
  },
  "language_info": {
   "codemirror_mode": {
    "name": "ipython",
    "version": 3
   },
   "file_extension": ".py",
   "mimetype": "text/x-python",
   "name": "python",
   "nbconvert_exporter": "python",
   "pygments_lexer": "ipython3",
   "version": "3.11.5"
  }
 },
 "nbformat": 4,
 "nbformat_minor": 5
}
